{
 "cells": [
  {
   "cell_type": "code",
   "execution_count": 2,
   "id": "initial_id",
   "metadata": {
    "ExecuteTime": {
     "end_time": "2025-05-09T15:24:15.217523Z",
     "start_time": "2025-05-09T15:24:14.665866Z"
    }
   },
   "outputs": [],
   "source": [
    "import pandas as pd\n",
    "import numpy as np\n",
    "import math"
   ]
  },
  {
   "cell_type": "code",
   "execution_count": 3,
   "id": "b012d32cdd41d14",
   "metadata": {
    "ExecuteTime": {
     "end_time": "2025-05-08T15:31:27.355273Z",
     "start_time": "2025-05-08T15:31:27.343908Z"
    }
   },
   "outputs": [
    {
     "data": {
      "text/html": [
       "<div>\n",
       "<style scoped>\n",
       "    .dataframe tbody tr th:only-of-type {\n",
       "        vertical-align: middle;\n",
       "    }\n",
       "\n",
       "    .dataframe tbody tr th {\n",
       "        vertical-align: top;\n",
       "    }\n",
       "\n",
       "    .dataframe thead th {\n",
       "        text-align: right;\n",
       "    }\n",
       "</style>\n",
       "<table border=\"1\" class=\"dataframe\">\n",
       "  <thead>\n",
       "    <tr style=\"text-align: right;\">\n",
       "      <th></th>\n",
       "      <th>ID</th>\n",
       "      <th>sepallength</th>\n",
       "      <th>sepalwidth</th>\n",
       "      <th>petallength</th>\n",
       "      <th>petalwidth</th>\n",
       "      <th>class</th>\n",
       "    </tr>\n",
       "  </thead>\n",
       "  <tbody>\n",
       "    <tr>\n",
       "      <th>0</th>\n",
       "      <td>1</td>\n",
       "      <td>5.1</td>\n",
       "      <td>3.5</td>\n",
       "      <td>1.4</td>\n",
       "      <td>0.2</td>\n",
       "      <td>Iris-setosa</td>\n",
       "    </tr>\n",
       "    <tr>\n",
       "      <th>1</th>\n",
       "      <td>2</td>\n",
       "      <td>4.9</td>\n",
       "      <td>3.0</td>\n",
       "      <td>1.4</td>\n",
       "      <td>0.2</td>\n",
       "      <td>Iris-setosa</td>\n",
       "    </tr>\n",
       "    <tr>\n",
       "      <th>2</th>\n",
       "      <td>3</td>\n",
       "      <td>4.7</td>\n",
       "      <td>3.2</td>\n",
       "      <td>1.3</td>\n",
       "      <td>0.2</td>\n",
       "      <td>Iris-setosa</td>\n",
       "    </tr>\n",
       "    <tr>\n",
       "      <th>3</th>\n",
       "      <td>4</td>\n",
       "      <td>4.6</td>\n",
       "      <td>3.1</td>\n",
       "      <td>1.5</td>\n",
       "      <td>0.2</td>\n",
       "      <td>Iris-setosa</td>\n",
       "    </tr>\n",
       "    <tr>\n",
       "      <th>4</th>\n",
       "      <td>5</td>\n",
       "      <td>5.0</td>\n",
       "      <td>3.6</td>\n",
       "      <td>1.4</td>\n",
       "      <td>0.2</td>\n",
       "      <td>Iris-setosa</td>\n",
       "    </tr>\n",
       "    <tr>\n",
       "      <th>...</th>\n",
       "      <td>...</td>\n",
       "      <td>...</td>\n",
       "      <td>...</td>\n",
       "      <td>...</td>\n",
       "      <td>...</td>\n",
       "      <td>...</td>\n",
       "    </tr>\n",
       "    <tr>\n",
       "      <th>145</th>\n",
       "      <td>146</td>\n",
       "      <td>6.7</td>\n",
       "      <td>3.0</td>\n",
       "      <td>5.2</td>\n",
       "      <td>2.3</td>\n",
       "      <td>Iris-virginica</td>\n",
       "    </tr>\n",
       "    <tr>\n",
       "      <th>146</th>\n",
       "      <td>147</td>\n",
       "      <td>6.3</td>\n",
       "      <td>2.5</td>\n",
       "      <td>5.0</td>\n",
       "      <td>1.9</td>\n",
       "      <td>Iris-virginica</td>\n",
       "    </tr>\n",
       "    <tr>\n",
       "      <th>147</th>\n",
       "      <td>148</td>\n",
       "      <td>6.5</td>\n",
       "      <td>3.0</td>\n",
       "      <td>5.2</td>\n",
       "      <td>2.0</td>\n",
       "      <td>Iris-virginica</td>\n",
       "    </tr>\n",
       "    <tr>\n",
       "      <th>148</th>\n",
       "      <td>149</td>\n",
       "      <td>6.2</td>\n",
       "      <td>3.4</td>\n",
       "      <td>5.4</td>\n",
       "      <td>2.3</td>\n",
       "      <td>Iris-virginica</td>\n",
       "    </tr>\n",
       "    <tr>\n",
       "      <th>149</th>\n",
       "      <td>150</td>\n",
       "      <td>5.9</td>\n",
       "      <td>3.0</td>\n",
       "      <td>5.1</td>\n",
       "      <td>1.8</td>\n",
       "      <td>Iris-virginica</td>\n",
       "    </tr>\n",
       "  </tbody>\n",
       "</table>\n",
       "<p>150 rows × 6 columns</p>\n",
       "</div>"
      ],
      "text/plain": [
       "      ID  sepallength  sepalwidth  petallength  petalwidth           class\n",
       "0      1          5.1         3.5          1.4         0.2     Iris-setosa\n",
       "1      2          4.9         3.0          1.4         0.2     Iris-setosa\n",
       "2      3          4.7         3.2          1.3         0.2     Iris-setosa\n",
       "3      4          4.6         3.1          1.5         0.2     Iris-setosa\n",
       "4      5          5.0         3.6          1.4         0.2     Iris-setosa\n",
       "..   ...          ...         ...          ...         ...             ...\n",
       "145  146          6.7         3.0          5.2         2.3  Iris-virginica\n",
       "146  147          6.3         2.5          5.0         1.9  Iris-virginica\n",
       "147  148          6.5         3.0          5.2         2.0  Iris-virginica\n",
       "148  149          6.2         3.4          5.4         2.3  Iris-virginica\n",
       "149  150          5.9         3.0          5.1         1.8  Iris-virginica\n",
       "\n",
       "[150 rows x 6 columns]"
      ]
     },
     "execution_count": 3,
     "metadata": {},
     "output_type": "execute_result"
    }
   ],
   "source": [
    "df = pd.read_csv('iris.csv')\n",
    "df"
   ]
  },
  {
   "cell_type": "code",
   "execution_count": 5,
   "id": "4995466ef21f9ff2",
   "metadata": {
    "ExecuteTime": {
     "end_time": "2025-05-08T15:26:42.228041Z",
     "start_time": "2025-05-08T15:26:42.225209Z"
    }
   },
   "outputs": [
    {
     "data": {
      "text/plain": [
       "(150, 6)"
      ]
     },
     "execution_count": 5,
     "metadata": {},
     "output_type": "execute_result"
    }
   ],
   "source": [
    "df.shape"
   ]
  },
  {
   "cell_type": "markdown",
   "id": "c1ee4035721bdb5d",
   "metadata": {},
   "source": [
    "Add descriptive features"
   ]
  },
  {
   "cell_type": "code",
   "execution_count": 4,
   "id": "f3c4ae90",
   "metadata": {
    "ExecuteTime": {
     "end_time": "2025-05-08T15:31:30.644108Z",
     "start_time": "2025-05-08T15:31:30.638448Z"
    }
   },
   "outputs": [],
   "source": [
    "df['sepal_length_bin'] = pd.cut(df['sepallength'], bins=3, labels=[\"Low\", \"Medium\", \"High\"])\n",
    "df['sepal_width_bin'] = pd.cut(df['sepalwidth'], bins=3, labels=[\"Low\", \"Medium\", \"High\"])\n",
    "df['petal_length_bin'] = pd.cut(df['petallength'], bins=3, labels=[\"Low\", \"Medium\", \"High\"])\n",
    "df['petal_width_bin'] = pd.cut(df['petalwidth'], bins=3, labels=[\"Low\", \"Medium\", \"High\"])\n"
   ]
  },
  {
   "cell_type": "code",
   "execution_count": 4,
   "id": "1179dfa6",
   "metadata": {
    "ExecuteTime": {
     "end_time": "2025-05-08T15:31:44.857142Z",
     "start_time": "2025-05-08T15:31:44.847542Z"
    }
   },
   "outputs": [
    {
     "data": {
      "text/html": [
       "<div>\n",
       "<style scoped>\n",
       "    .dataframe tbody tr th:only-of-type {\n",
       "        vertical-align: middle;\n",
       "    }\n",
       "\n",
       "    .dataframe tbody tr th {\n",
       "        vertical-align: top;\n",
       "    }\n",
       "\n",
       "    .dataframe thead th {\n",
       "        text-align: right;\n",
       "    }\n",
       "</style>\n",
       "<table border=\"1\" class=\"dataframe\">\n",
       "  <thead>\n",
       "    <tr style=\"text-align: right;\">\n",
       "      <th></th>\n",
       "      <th>ID</th>\n",
       "      <th>sepallength</th>\n",
       "      <th>sepalwidth</th>\n",
       "      <th>petallength</th>\n",
       "      <th>petalwidth</th>\n",
       "      <th>class</th>\n",
       "      <th>sepal_length_bin</th>\n",
       "      <th>sepal_width_bin</th>\n",
       "      <th>petal_length_bin</th>\n",
       "      <th>petal_width_bin</th>\n",
       "    </tr>\n",
       "  </thead>\n",
       "  <tbody>\n",
       "    <tr>\n",
       "      <th>0</th>\n",
       "      <td>1</td>\n",
       "      <td>5.1</td>\n",
       "      <td>3.5</td>\n",
       "      <td>1.4</td>\n",
       "      <td>0.2</td>\n",
       "      <td>Iris-setosa</td>\n",
       "      <td>Low</td>\n",
       "      <td>Medium</td>\n",
       "      <td>Low</td>\n",
       "      <td>Low</td>\n",
       "    </tr>\n",
       "    <tr>\n",
       "      <th>1</th>\n",
       "      <td>2</td>\n",
       "      <td>4.9</td>\n",
       "      <td>3.0</td>\n",
       "      <td>1.4</td>\n",
       "      <td>0.2</td>\n",
       "      <td>Iris-setosa</td>\n",
       "      <td>Low</td>\n",
       "      <td>Medium</td>\n",
       "      <td>Low</td>\n",
       "      <td>Low</td>\n",
       "    </tr>\n",
       "    <tr>\n",
       "      <th>2</th>\n",
       "      <td>3</td>\n",
       "      <td>4.7</td>\n",
       "      <td>3.2</td>\n",
       "      <td>1.3</td>\n",
       "      <td>0.2</td>\n",
       "      <td>Iris-setosa</td>\n",
       "      <td>Low</td>\n",
       "      <td>Medium</td>\n",
       "      <td>Low</td>\n",
       "      <td>Low</td>\n",
       "    </tr>\n",
       "    <tr>\n",
       "      <th>3</th>\n",
       "      <td>4</td>\n",
       "      <td>4.6</td>\n",
       "      <td>3.1</td>\n",
       "      <td>1.5</td>\n",
       "      <td>0.2</td>\n",
       "      <td>Iris-setosa</td>\n",
       "      <td>Low</td>\n",
       "      <td>Medium</td>\n",
       "      <td>Low</td>\n",
       "      <td>Low</td>\n",
       "    </tr>\n",
       "    <tr>\n",
       "      <th>4</th>\n",
       "      <td>5</td>\n",
       "      <td>5.0</td>\n",
       "      <td>3.6</td>\n",
       "      <td>1.4</td>\n",
       "      <td>0.2</td>\n",
       "      <td>Iris-setosa</td>\n",
       "      <td>Low</td>\n",
       "      <td>Medium</td>\n",
       "      <td>Low</td>\n",
       "      <td>Low</td>\n",
       "    </tr>\n",
       "  </tbody>\n",
       "</table>\n",
       "</div>"
      ],
      "text/plain": [
       "   ID  sepallength  sepalwidth  petallength  petalwidth        class  \\\n",
       "0   1          5.1         3.5          1.4         0.2  Iris-setosa   \n",
       "1   2          4.9         3.0          1.4         0.2  Iris-setosa   \n",
       "2   3          4.7         3.2          1.3         0.2  Iris-setosa   \n",
       "3   4          4.6         3.1          1.5         0.2  Iris-setosa   \n",
       "4   5          5.0         3.6          1.4         0.2  Iris-setosa   \n",
       "\n",
       "  sepal_length_bin sepal_width_bin petal_length_bin petal_width_bin  \n",
       "0              Low          Medium              Low             Low  \n",
       "1              Low          Medium              Low             Low  \n",
       "2              Low          Medium              Low             Low  \n",
       "3              Low          Medium              Low             Low  \n",
       "4              Low          Medium              Low             Low  "
      ]
     },
     "execution_count": 4,
     "metadata": {},
     "output_type": "execute_result"
    }
   ],
   "source": [
    "df.head()"
   ]
  },
  {
   "cell_type": "markdown",
   "id": "458d826f",
   "metadata": {},
   "source": [
    "2 - Split the features and the target"
   ]
  },
  {
   "cell_type": "code",
   "execution_count": 5,
   "id": "29359826",
   "metadata": {
    "ExecuteTime": {
     "end_time": "2025-05-08T15:31:55.358725Z",
     "start_time": "2025-05-08T15:31:55.355988Z"
    }
   },
   "outputs": [],
   "source": [
    "X = df.drop(columns=[\"ID\",\"class\", \"sepallength\", \"sepalwidth\", \"petallength\", \"petalwidth\"])\n",
    "y = df['class']"
   ]
  },
  {
   "cell_type": "code",
   "execution_count": null,
   "id": "8034c50d-7e29-4001-8c8a-13d2f16d9004",
   "metadata": {},
   "outputs": [],
   "source": []
  },
  {
   "cell_type": "code",
   "execution_count": 8,
   "id": "fe1cc78dc48b1a53",
   "metadata": {
    "ExecuteTime": {
     "end_time": "2025-05-08T15:32:09.094702Z",
     "start_time": "2025-05-08T15:32:09.090817Z"
    }
   },
   "outputs": [
    {
     "data": {
      "text/plain": [
       "0         Iris-setosa\n",
       "1         Iris-setosa\n",
       "2         Iris-setosa\n",
       "3         Iris-setosa\n",
       "4         Iris-setosa\n",
       "            ...      \n",
       "145    Iris-virginica\n",
       "146    Iris-virginica\n",
       "147    Iris-virginica\n",
       "148    Iris-virginica\n",
       "149    Iris-virginica\n",
       "Name: class, Length: 150, dtype: object"
      ]
     },
     "execution_count": 8,
     "metadata": {},
     "output_type": "execute_result"
    }
   ],
   "source": [
    "y"
   ]
  },
  {
   "cell_type": "code",
   "execution_count": 7,
   "id": "0b17d97a",
   "metadata": {
    "ExecuteTime": {
     "end_time": "2025-05-08T15:32:03.730558Z",
     "start_time": "2025-05-08T15:32:03.725398Z"
    }
   },
   "outputs": [
    {
     "data": {
      "text/html": [
       "<div>\n",
       "<style scoped>\n",
       "    .dataframe tbody tr th:only-of-type {\n",
       "        vertical-align: middle;\n",
       "    }\n",
       "\n",
       "    .dataframe tbody tr th {\n",
       "        vertical-align: top;\n",
       "    }\n",
       "\n",
       "    .dataframe thead th {\n",
       "        text-align: right;\n",
       "    }\n",
       "</style>\n",
       "<table border=\"1\" class=\"dataframe\">\n",
       "  <thead>\n",
       "    <tr style=\"text-align: right;\">\n",
       "      <th></th>\n",
       "      <th>sepal_length_bin</th>\n",
       "      <th>sepal_width_bin</th>\n",
       "      <th>petal_length_bin</th>\n",
       "      <th>petal_width_bin</th>\n",
       "    </tr>\n",
       "  </thead>\n",
       "  <tbody>\n",
       "    <tr>\n",
       "      <th>0</th>\n",
       "      <td>Low</td>\n",
       "      <td>Medium</td>\n",
       "      <td>Low</td>\n",
       "      <td>Low</td>\n",
       "    </tr>\n",
       "    <tr>\n",
       "      <th>1</th>\n",
       "      <td>Low</td>\n",
       "      <td>Medium</td>\n",
       "      <td>Low</td>\n",
       "      <td>Low</td>\n",
       "    </tr>\n",
       "    <tr>\n",
       "      <th>2</th>\n",
       "      <td>Low</td>\n",
       "      <td>Medium</td>\n",
       "      <td>Low</td>\n",
       "      <td>Low</td>\n",
       "    </tr>\n",
       "    <tr>\n",
       "      <th>3</th>\n",
       "      <td>Low</td>\n",
       "      <td>Medium</td>\n",
       "      <td>Low</td>\n",
       "      <td>Low</td>\n",
       "    </tr>\n",
       "    <tr>\n",
       "      <th>4</th>\n",
       "      <td>Low</td>\n",
       "      <td>Medium</td>\n",
       "      <td>Low</td>\n",
       "      <td>Low</td>\n",
       "    </tr>\n",
       "    <tr>\n",
       "      <th>...</th>\n",
       "      <td>...</td>\n",
       "      <td>...</td>\n",
       "      <td>...</td>\n",
       "      <td>...</td>\n",
       "    </tr>\n",
       "    <tr>\n",
       "      <th>145</th>\n",
       "      <td>Medium</td>\n",
       "      <td>Medium</td>\n",
       "      <td>High</td>\n",
       "      <td>High</td>\n",
       "    </tr>\n",
       "    <tr>\n",
       "      <th>146</th>\n",
       "      <td>Medium</td>\n",
       "      <td>Low</td>\n",
       "      <td>High</td>\n",
       "      <td>High</td>\n",
       "    </tr>\n",
       "    <tr>\n",
       "      <th>147</th>\n",
       "      <td>Medium</td>\n",
       "      <td>Medium</td>\n",
       "      <td>High</td>\n",
       "      <td>High</td>\n",
       "    </tr>\n",
       "    <tr>\n",
       "      <th>148</th>\n",
       "      <td>Medium</td>\n",
       "      <td>Medium</td>\n",
       "      <td>High</td>\n",
       "      <td>High</td>\n",
       "    </tr>\n",
       "    <tr>\n",
       "      <th>149</th>\n",
       "      <td>Medium</td>\n",
       "      <td>Medium</td>\n",
       "      <td>High</td>\n",
       "      <td>High</td>\n",
       "    </tr>\n",
       "  </tbody>\n",
       "</table>\n",
       "<p>150 rows × 4 columns</p>\n",
       "</div>"
      ],
      "text/plain": [
       "    sepal_length_bin sepal_width_bin petal_length_bin petal_width_bin\n",
       "0                Low          Medium              Low             Low\n",
       "1                Low          Medium              Low             Low\n",
       "2                Low          Medium              Low             Low\n",
       "3                Low          Medium              Low             Low\n",
       "4                Low          Medium              Low             Low\n",
       "..               ...             ...              ...             ...\n",
       "145           Medium          Medium             High            High\n",
       "146           Medium             Low             High            High\n",
       "147           Medium          Medium             High            High\n",
       "148           Medium          Medium             High            High\n",
       "149           Medium          Medium             High            High\n",
       "\n",
       "[150 rows x 4 columns]"
      ]
     },
     "execution_count": 7,
     "metadata": {},
     "output_type": "execute_result"
    }
   ],
   "source": [
    "X"
   ]
  },
  {
   "cell_type": "markdown",
   "id": "b84a481b",
   "metadata": {},
   "source": [
    "3 - Split the data in train(0.8) and test(0.2)"
   ]
  },
  {
   "cell_type": "code",
   "execution_count": 10,
   "id": "e4914383",
   "metadata": {
    "ExecuteTime": {
     "end_time": "2025-05-08T15:32:55.550432Z",
     "start_time": "2025-05-08T15:32:55.546564Z"
    }
   },
   "outputs": [],
   "source": [
    "# fix a seed so that results are reproduceble\n",
    "seed = 42\n",
    "\n",
    "# shuffle all rows\n",
    "df_shuffled = df.sample(frac=1, random_state=seed).reset_index(drop=True)\n",
    "\n",
    "#Choose the size of train and test dataframes\n",
    "test_frac = 0.2\n",
    "cut = int(len(df_shuffled) * (1 - test_frac))\n",
    "\n",
    "#Separate the daa into train and test\n",
    "df_train = df_shuffled.iloc[:cut]   # first 80%\n",
    "df_test  = df_shuffled.iloc[cut:]   # remaining 20%\n",
    "\n",
    "#Separate features and target\n",
    "feature_cols = ['sepal_length_bin',\n",
    "                'sepal_width_bin',\n",
    "                'petal_length_bin',\n",
    "                'petal_width_bin']\n",
    "\n",
    "X_train = df_train[feature_cols]\n",
    "y_train = df_train['class']\n",
    "\n",
    "X_test  = df_test[feature_cols]\n",
    "y_test  = df_test['class']\n",
    "\n"
   ]
  },
  {
   "cell_type": "code",
   "execution_count": 12,
   "id": "5a3f8b6d",
   "metadata": {
    "ExecuteTime": {
     "end_time": "2025-05-08T15:44:22.030848Z",
     "start_time": "2025-05-08T15:44:22.000250Z"
    }
   },
   "outputs": [],
   "source": [
    "def calculate_entropy(labels: pd.Series) -> float: #Calculate entropy of a feature\n",
    "    counts = labels.value_counts() #Counts the number of unique values\n",
    "    probs = counts/len(labels)\n",
    "\n",
    "    entropy = - sum([x * math.log2(x) for x in probs])\n",
    "\n",
    "    return entropy\n",
    "\n",
    "def information_gain(data: pd.DataFrame, feature: str, target_column: str) -> float:\n",
    "    # Total entropy before the split\n",
    "    total_entropy = calculate_entropy(data[target_column])\n",
    "\n",
    "    # Values and counts for the feature\n",
    "    values = data[feature].unique()\n",
    "    weighted_entropy = 0\n",
    "\n",
    "    for value in values:\n",
    "        subset = data[data[feature] == value]\n",
    "        weight = len(subset) / len(data)\n",
    "        subset_entropy = calculate_entropy(subset[target_column])\n",
    "        weighted_entropy += weight * subset_entropy\n",
    "\n",
    "    gain = total_entropy - weighted_entropy\n",
    "    return gain\n",
    "\n",
    "def id3(data: pd.DataFrame, target_column: str, features: list) -> dict:\n",
    "    # If all labels are the same, return that label\n",
    "    if len(data[target_column].unique()) == 1:\n",
    "        return data[target_column].iloc[0]\n",
    "\n",
    "    # If no features left, return the most common label\n",
    "    if len(features) == 0:\n",
    "        return data[target_column].mode()[0]\n",
    "\n",
    "    # Find the best feature to split\n",
    "    gains = {feature: information_gain(data, feature, target_column) for feature in features}\n",
    "    best_feature = max(gains, key=gains.get)\n",
    "\n",
    "    tree = {best_feature: {}}\n",
    "\n",
    "    # For each value of the best feature, create a subtree\n",
    "    for value in data[best_feature].unique():\n",
    "        subset = data[data[best_feature] == value]\n",
    "\n",
    "        if subset.empty:\n",
    "            # If no data, return the majority label\n",
    "            tree[best_feature][value] = data[target_column].mode()[0]\n",
    "        else:\n",
    "            # Recursive call with the remaining features\n",
    "            new_features = [f for f in features if f != best_feature]\n",
    "            subtree = id3(subset, target_column, new_features)\n",
    "            tree[best_feature][value] = subtree\n",
    "\n",
    "    return tree\n",
    "\n",
    "\n",
    "tree = id3(df, 'class', feature_cols)"
   ]
  },
  {
   "cell_type": "code",
   "execution_count": 13,
   "id": "8415d8c83dce248e",
   "metadata": {
    "ExecuteTime": {
     "end_time": "2025-05-08T15:44:24.294058Z",
     "start_time": "2025-05-08T15:44:24.291444Z"
    }
   },
   "outputs": [
    {
     "data": {
      "text/plain": [
       "{'petal_width_bin': {'Low': 'Iris-setosa',\n",
       "  'Medium': {'petal_length_bin': {'Medium': {'sepal_length_bin': {'High': 'Iris-versicolor',\n",
       "      'Medium': 'Iris-versicolor',\n",
       "      'Low': {'sepal_width_bin': {'Low': 'Iris-versicolor',\n",
       "        'Medium': 'Iris-versicolor'}}}},\n",
       "    'High': {'sepal_length_bin': {'Medium': {'sepal_width_bin': {'Medium': 'Iris-versicolor',\n",
       "        'Low': 'Iris-virginica'}},\n",
       "      'High': 'Iris-virginica'}}}},\n",
       "  'High': {'petal_length_bin': {'Medium': {'sepal_width_bin': {'Medium': {'sepal_length_bin': {'Medium': 'Iris-virginica'}},\n",
       "      'Low': 'Iris-virginica'}},\n",
       "    'High': 'Iris-virginica'}}}}"
      ]
     },
     "execution_count": 13,
     "metadata": {},
     "output_type": "execute_result"
    }
   ],
   "source": [
    "tree"
   ]
  },
  {
   "cell_type": "markdown",
   "id": "8543e37ab53d5748",
   "metadata": {},
   "source": [
    "Test"
   ]
  },
  {
   "cell_type": "code",
   "execution_count": 15,
   "id": "53eb1fd73f0b68f7",
   "metadata": {
    "ExecuteTime": {
     "end_time": "2025-05-08T15:56:16.666485Z",
     "start_time": "2025-05-08T15:56:16.663895Z"
    }
   },
   "outputs": [],
   "source": [
    "def classify(example, tree):\n",
    "    if not isinstance(tree, dict):\n",
    "        return tree  # If it's a label, return it\n",
    "\n",
    "    # Otherwise, get the feature at this node\n",
    "    feature = next(iter(tree))\n",
    "    feature_value = example[feature]\n",
    "\n",
    "    # Move to the subtree for this value\n",
    "    subtree = tree[feature].get(feature_value)\n",
    "\n",
    "    if subtree is None:\n",
    "        return None  # Value not seen during training\n",
    "\n",
    "    return classify(example, subtree)\n"
   ]
  },
  {
   "cell_type": "code",
   "execution_count": 18,
   "id": "d71c18da",
   "metadata": {
    "ExecuteTime": {
     "end_time": "2025-05-08T15:58:06.272432Z",
     "start_time": "2025-05-08T15:58:06.265519Z"
    }
   },
   "outputs": [
    {
     "name": "stdout",
     "output_type": "stream",
     "text": [
      "Test accuracy: 96.67%\n"
     ]
    }
   ],
   "source": [
    "df_test.loc[:, 'prediction'] = X_test.apply(lambda row: classify(row, tree), axis=1)\n",
    "accuracy = (df_test['prediction'] == y_test).mean()\n",
    "print(f\"Test accuracy: {accuracy:.2%}\")"
   ]
  },
  {
   "cell_type": "code",
   "execution_count": null,
   "id": "aedcdda58923f890",
   "metadata": {},
   "outputs": [],
   "source": []
  },
  {
   "cell_type": "code",
   "execution_count": null,
   "id": "2eafb09191b67f72",
   "metadata": {},
   "outputs": [],
   "source": []
  }
 ],
 "metadata": {
  "kernelspec": {
   "display_name": "Python 3 (ipykernel)",
   "language": "python",
   "name": "python3"
  },
  "language_info": {
   "codemirror_mode": {
    "name": "ipython",
    "version": 3
   },
   "file_extension": ".py",
   "mimetype": "text/x-python",
   "name": "python",
   "nbconvert_exporter": "python",
   "pygments_lexer": "ipython3",
   "version": "3.12.3"
  }
 },
 "nbformat": 4,
 "nbformat_minor": 5
}
